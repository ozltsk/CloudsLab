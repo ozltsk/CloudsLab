{
  "cells": [
    {
      "cell_type": "markdown",
      "metadata": {
        "id": "5PmsoCZgGflk"
      },
      "source": [
        "<a href=\"https://colab.research.google.com/github/schwallergroup/ai4chem_course/blob/main/notebooks/11%20-%20Model%20deployment/git(hub)_tutorial.ipynb\" target=\"_parent\"><img src=\"https://colab.research.google.com/assets/colab-badge.svg\" alt=\"Open In Colab\"/></a>\n"
      ]
    },
    {
      "cell_type": "markdown",
      "metadata": {
        "id": "tHh4JZ7WGflp"
      },
      "source": [
        "# 1. Introduction\n",
        "Welcome to this git(hub) tutorial where we'll be exploring the git system and how we can use it through GitHub.\n",
        "\n",
        "**Git** is a version control system that allows multiple people to work on a project without overwriting each other's changes. It's like a time machine: you can go back to the past to see what your project looked like at any point in the history.\n",
        "\n",
        "**GitHub** is a hosting service for git repositories. It's a place where developers can store their projects and star, comment and explore other people's projects.\n",
        "\n",
        "By the end of this tutorial, you'll be a git expert! Let's get started!"
      ]
    },
    {
      "cell_type": "markdown",
      "metadata": {
        "id": "ubeDxX4qGflq"
      },
      "source": [
        "# 2. Installation and Setup\n",
        "\n",
        "## Installing git:\n",
        "For macOS users, open Terminal and type:"
      ]
    },
    {
      "cell_type": "markdown",
      "metadata": {
        "id": "NRrGcDVSGflr"
      },
      "source": [
        "```bash\n",
        "brew install git\n",
        "```"
      ]
    },
    {
      "cell_type": "markdown",
      "metadata": {
        "id": "jH3U84oSGflr"
      },
      "source": [
        "For Windows users, download and install git from this link: https://gitforwindows.org/\n",
        "\n",
        "\n",
        "\n"
      ]
    },
    {
      "cell_type": "markdown",
      "metadata": {
        "id": "M3T4i0C4Gfls"
      },
      "source": [
        "For Linux users, open the Terminal and type:\n",
        "\n",
        "```bash\n",
        "sudo apt-get install git\n",
        "```"
      ]
    },
    {
      "cell_type": "markdown",
      "metadata": {
        "id": "6n4-9iFkGfls"
      },
      "source": [
        "## Setting up GitHub:\n",
        "1. Visit the GitHub website: https://github.com/\n",
        "2. Click on \"Sign up\" in the top right corner.\n",
        "3. Enter a username, your email address, and a strong password.\n",
        "4. Verify your account, choose the free plan, and answer the simple survey.\n",
        "5. You now have a GitHub account!\n",
        "\n",
        "After you've installed git and set up GitHub, you can configure git with your name and email."
      ]
    },
    {
      "cell_type": "markdown",
      "metadata": {
        "id": "7NhK9iElGflt"
      },
      "source": [
        "In your terminal, type:\n",
        "```bash\n",
        "git config --global user.name \"Your Name\"\n",
        "git config --global user.email \"youremail@example.com\"\n",
        "```"
      ]
    },
    {
      "cell_type": "markdown",
      "metadata": {
        "id": "NuuFdUR4Gflt"
      },
      "source": [
        "# 3. Cloning a Repository\n",
        "A repository (or \"repo\") is a folder for your project. Your project's repo contains all of your project's files and stores each file's revision history. Repos can have multiple collaborators and can be either public or private.\n",
        "\n",
        "\"Cloning\" a repository simply means copying it to your local machine. We'll clone the Streamlit app repository for our project.\n",
        "\n",
        "To clone the repository, navigate to the desired location on your local machine using a terminal, then type:"
      ]
    },
    {
      "cell_type": "markdown",
      "metadata": {
        "id": "yadTBx_QGflu"
      },
      "source": [
        "```bash\n",
        "git clone https://github.com/schwallergroup/ai4chem_course\n",
        "```\n"
      ]
    },
    {
      "cell_type": "markdown",
      "metadata": {
        "id": "0DCUA9WmGflu"
      },
      "source": [
        "You can replace the example link with the URL of any repository you want to clone. This URL can be found on the main page of the repository on GitHub.\n",
        "\n",
        "After running this command, you'll have a copy of the repository on your local machine. You're now ready to navigate through its files run it! We'll cover that in the next section."
      ]
    },
    {
      "cell_type": "markdown",
      "metadata": {
        "id": "YAqTNbdhGflu"
      },
      "source": [
        "## 4. Navigating a Repository\n",
        "\n",
        "Each repository in GitHub contains all the project files, the README file, and the revision history.\n",
        "\n",
        "- **Project Files:** These are the files you or your collaborators have created and committed.\n",
        "- **README file:** This file is a document that introduces, explains, and provides information about the project. It's the first file GitHub displays when you navigate to a repository.\n",
        "- **Revision History:** Every commit made in the repository is stored and can be viewed.\n",
        "\n",
        "To navigate the repository, you can use the file explorer in your machine or use the terminal with commands like `cd` (change directory), `ls` (list files in directory), etc.\n",
        "\n",
        "## 5. Basic Git Commands\n",
        "\n",
        "- **git status:** This command shows the status of changes as untracked, modified, or staged.\n",
        "\n",
        "```bash\n",
        "git status\n",
        "```\n",
        "\n",
        "- **git pull:** This command is used to fetch and download content from your remote repository and immediately update the local repository to match that content.\n",
        "\n",
        "```bash\n",
        "git pull\n",
        "```\n",
        "\n",
        "- **git log:** This command shows a listing of commits on a branch including the corresponding details.\n",
        "\n",
        "```bash\n",
        "git log\n",
        "```\n",
        "\n",
        "## 6. Making Changes and Pushing to GitHub\n",
        "\n",
        "When you make changes to your files, git can track those changes. You can then \"commit\" your changes, which saves them to your local repository. Here are the basic commands to do this:\n",
        "\n",
        "- **git add:** This command adds a change in the working directory to the staging area.\n",
        "\n",
        "```bash\n",
        "git add .\n",
        "```\n",
        "\n",
        "- **git commit:** This command captures a snapshot of the project's currently staged changes.\n",
        "\n",
        "```bash\n",
        "git commit -m \"Your message about the commit\"\n",
        "```\n",
        "\n",
        "After committing your changes, you can \"push\" them to your remote GitHub repository:\n",
        "\n",
        "- **git push:** This command sends the committed changes of the main branch to your remote repository.\n",
        "\n",
        "```bash\n",
        "git push origin main\n",
        "```\n",
        "\n",
        "## 7. Understanding Pull Requests\n",
        "\n",
        "Pull requests let you tell others about changes you've pushed to a GitHub repository. Once a pull request is opened, you can discuss and review the potential changes with collaborators and add follow-up commits before the changes are merged into the base branch.\n",
        "\n",
        "Here's how you can create a pull request:\n",
        "\n",
        "1. On GitHub, navigate to the main page of the repository.\n",
        "2. In the \"Branch\" menu, choose the branch that contains your commits.\n",
        "3. To the right of the Branch menu, click \"New pull request\".\n",
        "4. Use the base branch dropdown menu to select the branch you'd like to merge your changes into, then use the compare branch drop-down menu to choose the topic branch you made your changes in.\n",
        "5. Type a title and description for your pull request.\n",
        "6. To create a pull request that is ready for review, click \"Create Pull Request\".\n",
        "\n",
        "Now you have made a pull request and your collaborators can review and merge your changes.\n"
      ]
    },
    {
      "cell_type": "markdown",
      "metadata": {
        "id": "WtfOi-z_Gflv"
      },
      "source": [
        "## 8. Managing Branches\n",
        "\n",
        "Branches are used to develop features isolated from each other. The main branch is the \"default\" branch when you create a repository. Use other branches for development, and merge them back to the main branch upon completion. Here is how you can create a new branch and switch to it:\n",
        "\n",
        "- **Create a new branch:**\n",
        "\n",
        "```bash\n",
        "git branch branch_name\n",
        "```\n",
        "\n",
        "- **Switch to the newly created branch:**\n",
        "\n",
        "```bash\n",
        "git checkout branch_name\n",
        "```\n",
        "\n",
        "## 9. Merging Branches\n",
        "\n",
        "Once you've finished working on a branch and have committed all your changes, you can merge this branch back to the main branch or any other branch. Here is the command to switch to the main branch and merge your branch:\n",
        "\n",
        "- **Switch to the main branch:**\n",
        "\n",
        "```bash\n",
        "git checkout main\n",
        "```\n",
        "\n",
        "- **Merge your branch to the main branch:**\n",
        "\n",
        "```bash\n",
        "git merge branch_name\n",
        "```\n",
        "\n",
        "## 10. Resolving Merge Conflicts\n",
        "\n",
        "Sometimes when you try to merge two branches, if the same part of the same file was changed in both branches, git won't be able to figure out which version to use and it will ask you to resolve the conflict manually. Git will mark the areas in your file where there is a conflict, and you have to edit the file to resolve the conflict.\n",
        "\n",
        "## 11. Overview of .gitignore\n",
        "\n",
        "Sometimes, there are files or folders that you don't want git to track. These can be configuration files, files with sensitive data like passwords, or binary files that would take up too much space. You can create a .gitignore file in your repository, and list out the files or folders that you want git to ignore.\n",
        "\n",
        "- **Create a .gitignore file:**\n",
        "\n",
        "```bash\n",
        "touch .gitignore\n",
        "```\n",
        "\n",
        "- **Open the .gitignore file and list the files or folders to ignore, one per line.**\n"
      ]
    },
    {
      "cell_type": "markdown",
      "metadata": {
        "id": "KIVo9AmTGflv"
      },
      "source": [
        "## 12. Starring and Watching Repositories\n",
        "\n",
        "GitHub provides features to help you keep track of repositories that you find interesting.\n",
        "\n",
        "- **Starring a Repository:** If you find a GitHub repository interesting or would like to follow it, you can star it. Starring a repository also shows appreciation to its maintainer for their work. Repositories that you star will be listed on your GitHub profile page.\n",
        "\n",
        "- **Watching a Repository:** If you want to get notified of all activity in a repository, you can 'Watch' it. This is particularly useful if you are contributing to a project and want to keep track of issues and pull requests.\n",
        "\n",
        "Starring and Watching can be done on the GitHub website, and doesn't require any bash commands.\n",
        "\n",
        "## 13. GitHub Issues and Discussions\n",
        "\n",
        "- **GitHub Issues:** GitHub Issues is a great way to keep track of tasks, enhancements, and bugs for your projects. They’re kind of like email, except they can be shared and discussed with the rest of your team. Issues are also searchable and can be organized with labels and milestones.\n",
        "\n",
        "- **GitHub Discussions:** Discussions is a collaborative communication forum for the community around an open source project. It is the place where the community can have open-ended conversations, ask for help, share ideas and engage with each other.\n",
        "\n",
        "Just like with Starring and Watching, working with Issues and Discussions is done on the GitHub website, and doesn't require any bash commands.\n",
        "\n",
        "## 14. Conclusion and Additional Resources\n",
        "\n",
        "Congratulations on completing this introduction to git and GitHub! You've covered a lot of ground, from basic commands to more complex tasks like branching and merging, and you've learned about some of the collaborative features of GitHub.\n",
        "\n",
        "Remember, git is a powerful tool for version control and collaboration. It may take some time to get used to, especially if you're new to programming, but it's a valuable skill that will benefit you in the long run.\n",
        "\n",
        "As next steps, you could explore more advanced git commands and learn about different workflows that teams use when working with git. Here are some additional resources for further learning:\n",
        "\n",
        "- [The Pro Git Book](https://git-scm.com/book/en/v2)\n",
        "- [GitHub Guides](https://guides.github.com/)\n",
        "\n",
        "Remember, practice makes perfect. The more you use git and GitHub, the more comfortable you'll become. Happy coding!\n"
      ]
    }
  ],
  "metadata": {
    "kernelspec": {
      "display_name": "Python 3",
      "language": "python",
      "name": "python3"
    },
    "language_info": {
      "name": "python",
      "version": "3.8.10"
    },
    "orig_nbformat": 4,
    "vscode": {
      "interpreter": {
        "hash": "31f2aee4e71d21fbe5cf8b01ff0e069b9275f58929596ceb00d14d90e3e16cd6"
      }
    },
    "colab": {
      "provenance": []
    }
  },
  "nbformat": 4,
  "nbformat_minor": 0
}